{
  "nbformat": 4,
  "nbformat_minor": 0,
  "metadata": {
    "colab": {
      "provenance": [],
      "authorship_tag": "ABX9TyP7tOxEka6wKPEVa/jW5d23",
      "include_colab_link": true
    },
    "kernelspec": {
      "name": "python3",
      "display_name": "Python 3"
    },
    "language_info": {
      "name": "python"
    }
  },
  "cells": [
    {
      "cell_type": "markdown",
      "metadata": {
        "id": "view-in-github",
        "colab_type": "text"
      },
      "source": [
        "<a href=\"https://colab.research.google.com/github/oluwafemidiakhoa/MLprject/blob/main/Healthwith__groq.ipynb\" target=\"_parent\"><img src=\"https://colab.research.google.com/assets/colab-badge.svg\" alt=\"Open In Colab\"/></a>"
      ]
    },
    {
      "cell_type": "markdown",
      "source": [
        "## Install necessary libraries:"
      ],
      "metadata": {
        "id": "nAMdRAFiShdT"
      }
    },
    {
      "cell_type": "code",
      "source": [
        "!pip install jupyter groq pillow pandas\n",
        "\n"
      ],
      "metadata": {
        "colab": {
          "base_uri": "https://localhost:8080/"
        },
        "id": "V7BfcVHQIqLT",
        "outputId": "ab9fc4fe-a5ad-4e68-c556-33503ee4e421"
      },
      "execution_count": 108,
      "outputs": [
        {
          "output_type": "stream",
          "name": "stdout",
          "text": [
            "Requirement already satisfied: jupyter in /usr/local/lib/python3.10/dist-packages (1.0.0)\n",
            "Requirement already satisfied: groq in /usr/local/lib/python3.10/dist-packages (0.9.0)\n",
            "Requirement already satisfied: pillow in /usr/local/lib/python3.10/dist-packages (9.4.0)\n",
            "Requirement already satisfied: pandas in /usr/local/lib/python3.10/dist-packages (2.1.4)\n",
            "Requirement already satisfied: notebook in /usr/local/lib/python3.10/dist-packages (from jupyter) (6.5.5)\n",
            "Requirement already satisfied: qtconsole in /usr/local/lib/python3.10/dist-packages (from jupyter) (5.5.2)\n",
            "Requirement already satisfied: jupyter-console in /usr/local/lib/python3.10/dist-packages (from jupyter) (6.1.0)\n",
            "Requirement already satisfied: nbconvert in /usr/local/lib/python3.10/dist-packages (from jupyter) (6.5.4)\n",
            "Requirement already satisfied: ipykernel in /usr/local/lib/python3.10/dist-packages (from jupyter) (5.5.6)\n",
            "Requirement already satisfied: ipywidgets in /usr/local/lib/python3.10/dist-packages (from jupyter) (7.7.1)\n",
            "Requirement already satisfied: anyio<5,>=3.5.0 in /usr/local/lib/python3.10/dist-packages (from groq) (3.7.1)\n",
            "Requirement already satisfied: distro<2,>=1.7.0 in /usr/lib/python3/dist-packages (from groq) (1.7.0)\n",
            "Requirement already satisfied: httpx<1,>=0.23.0 in /usr/local/lib/python3.10/dist-packages (from groq) (0.27.0)\n",
            "Requirement already satisfied: pydantic<3,>=1.9.0 in /usr/local/lib/python3.10/dist-packages (from groq) (2.8.2)\n",
            "Requirement already satisfied: sniffio in /usr/local/lib/python3.10/dist-packages (from groq) (1.3.1)\n",
            "Requirement already satisfied: typing-extensions<5,>=4.7 in /usr/local/lib/python3.10/dist-packages (from groq) (4.12.2)\n",
            "Requirement already satisfied: numpy<2,>=1.22.4 in /usr/local/lib/python3.10/dist-packages (from pandas) (1.26.4)\n",
            "Requirement already satisfied: python-dateutil>=2.8.2 in /usr/local/lib/python3.10/dist-packages (from pandas) (2.8.2)\n",
            "Requirement already satisfied: pytz>=2020.1 in /usr/local/lib/python3.10/dist-packages (from pandas) (2024.1)\n",
            "Requirement already satisfied: tzdata>=2022.1 in /usr/local/lib/python3.10/dist-packages (from pandas) (2024.1)\n",
            "Requirement already satisfied: idna>=2.8 in /usr/local/lib/python3.10/dist-packages (from anyio<5,>=3.5.0->groq) (3.7)\n",
            "Requirement already satisfied: exceptiongroup in /usr/local/lib/python3.10/dist-packages (from anyio<5,>=3.5.0->groq) (1.2.2)\n",
            "Requirement already satisfied: certifi in /usr/local/lib/python3.10/dist-packages (from httpx<1,>=0.23.0->groq) (2024.7.4)\n",
            "Requirement already satisfied: httpcore==1.* in /usr/local/lib/python3.10/dist-packages (from httpx<1,>=0.23.0->groq) (1.0.5)\n",
            "Requirement already satisfied: h11<0.15,>=0.13 in /usr/local/lib/python3.10/dist-packages (from httpcore==1.*->httpx<1,>=0.23.0->groq) (0.14.0)\n",
            "Requirement already satisfied: annotated-types>=0.4.0 in /usr/local/lib/python3.10/dist-packages (from pydantic<3,>=1.9.0->groq) (0.7.0)\n",
            "Requirement already satisfied: pydantic-core==2.20.1 in /usr/local/lib/python3.10/dist-packages (from pydantic<3,>=1.9.0->groq) (2.20.1)\n",
            "Requirement already satisfied: six>=1.5 in /usr/local/lib/python3.10/dist-packages (from python-dateutil>=2.8.2->pandas) (1.16.0)\n",
            "Requirement already satisfied: ipython-genutils in /usr/local/lib/python3.10/dist-packages (from ipykernel->jupyter) (0.2.0)\n",
            "Requirement already satisfied: ipython>=5.0.0 in /usr/local/lib/python3.10/dist-packages (from ipykernel->jupyter) (7.34.0)\n",
            "Requirement already satisfied: traitlets>=4.1.0 in /usr/local/lib/python3.10/dist-packages (from ipykernel->jupyter) (5.7.1)\n",
            "Requirement already satisfied: jupyter-client in /usr/local/lib/python3.10/dist-packages (from ipykernel->jupyter) (6.1.12)\n",
            "Requirement already satisfied: tornado>=4.2 in /usr/local/lib/python3.10/dist-packages (from ipykernel->jupyter) (6.3.3)\n",
            "Requirement already satisfied: widgetsnbextension~=3.6.0 in /usr/local/lib/python3.10/dist-packages (from ipywidgets->jupyter) (3.6.8)\n",
            "Requirement already satisfied: jupyterlab-widgets>=1.0.0 in /usr/local/lib/python3.10/dist-packages (from ipywidgets->jupyter) (3.0.11)\n",
            "Requirement already satisfied: prompt-toolkit!=3.0.0,!=3.0.1,<3.1.0,>=2.0.0 in /usr/local/lib/python3.10/dist-packages (from jupyter-console->jupyter) (3.0.47)\n",
            "Requirement already satisfied: pygments in /usr/local/lib/python3.10/dist-packages (from jupyter-console->jupyter) (2.16.1)\n",
            "Requirement already satisfied: lxml in /usr/local/lib/python3.10/dist-packages (from nbconvert->jupyter) (4.9.4)\n",
            "Requirement already satisfied: beautifulsoup4 in /usr/local/lib/python3.10/dist-packages (from nbconvert->jupyter) (4.12.3)\n",
            "Requirement already satisfied: bleach in /usr/local/lib/python3.10/dist-packages (from nbconvert->jupyter) (6.1.0)\n",
            "Requirement already satisfied: defusedxml in /usr/local/lib/python3.10/dist-packages (from nbconvert->jupyter) (0.7.1)\n",
            "Requirement already satisfied: entrypoints>=0.2.2 in /usr/local/lib/python3.10/dist-packages (from nbconvert->jupyter) (0.4)\n",
            "Requirement already satisfied: jinja2>=3.0 in /usr/local/lib/python3.10/dist-packages (from nbconvert->jupyter) (3.1.4)\n",
            "Requirement already satisfied: jupyter-core>=4.7 in /usr/local/lib/python3.10/dist-packages (from nbconvert->jupyter) (5.7.2)\n",
            "Requirement already satisfied: jupyterlab-pygments in /usr/local/lib/python3.10/dist-packages (from nbconvert->jupyter) (0.3.0)\n",
            "Requirement already satisfied: MarkupSafe>=2.0 in /usr/local/lib/python3.10/dist-packages (from nbconvert->jupyter) (2.1.5)\n",
            "Requirement already satisfied: mistune<2,>=0.8.1 in /usr/local/lib/python3.10/dist-packages (from nbconvert->jupyter) (0.8.4)\n",
            "Requirement already satisfied: nbclient>=0.5.0 in /usr/local/lib/python3.10/dist-packages (from nbconvert->jupyter) (0.10.0)\n",
            "Requirement already satisfied: nbformat>=5.1 in /usr/local/lib/python3.10/dist-packages (from nbconvert->jupyter) (5.10.4)\n",
            "Requirement already satisfied: packaging in /usr/local/lib/python3.10/dist-packages (from nbconvert->jupyter) (24.1)\n",
            "Requirement already satisfied: pandocfilters>=1.4.1 in /usr/local/lib/python3.10/dist-packages (from nbconvert->jupyter) (1.5.1)\n",
            "Requirement already satisfied: tinycss2 in /usr/local/lib/python3.10/dist-packages (from nbconvert->jupyter) (1.3.0)\n",
            "Requirement already satisfied: pyzmq<25,>=17 in /usr/local/lib/python3.10/dist-packages (from notebook->jupyter) (24.0.1)\n",
            "Requirement already satisfied: argon2-cffi in /usr/local/lib/python3.10/dist-packages (from notebook->jupyter) (23.1.0)\n",
            "Requirement already satisfied: nest-asyncio>=1.5 in /usr/local/lib/python3.10/dist-packages (from notebook->jupyter) (1.6.0)\n",
            "Requirement already satisfied: Send2Trash>=1.8.0 in /usr/local/lib/python3.10/dist-packages (from notebook->jupyter) (1.8.3)\n",
            "Requirement already satisfied: terminado>=0.8.3 in /usr/local/lib/python3.10/dist-packages (from notebook->jupyter) (0.18.1)\n",
            "Requirement already satisfied: prometheus-client in /usr/local/lib/python3.10/dist-packages (from notebook->jupyter) (0.20.0)\n",
            "Requirement already satisfied: nbclassic>=0.4.7 in /usr/local/lib/python3.10/dist-packages (from notebook->jupyter) (1.1.0)\n",
            "Requirement already satisfied: qtpy>=2.4.0 in /usr/local/lib/python3.10/dist-packages (from qtconsole->jupyter) (2.4.1)\n",
            "Requirement already satisfied: setuptools>=18.5 in /usr/local/lib/python3.10/dist-packages (from ipython>=5.0.0->ipykernel->jupyter) (71.0.4)\n",
            "Requirement already satisfied: jedi>=0.16 in /usr/local/lib/python3.10/dist-packages (from ipython>=5.0.0->ipykernel->jupyter) (0.19.1)\n",
            "Requirement already satisfied: decorator in /usr/local/lib/python3.10/dist-packages (from ipython>=5.0.0->ipykernel->jupyter) (4.4.2)\n",
            "Requirement already satisfied: pickleshare in /usr/local/lib/python3.10/dist-packages (from ipython>=5.0.0->ipykernel->jupyter) (0.7.5)\n",
            "Requirement already satisfied: backcall in /usr/local/lib/python3.10/dist-packages (from ipython>=5.0.0->ipykernel->jupyter) (0.2.0)\n",
            "Requirement already satisfied: matplotlib-inline in /usr/local/lib/python3.10/dist-packages (from ipython>=5.0.0->ipykernel->jupyter) (0.1.7)\n",
            "Requirement already satisfied: pexpect>4.3 in /usr/local/lib/python3.10/dist-packages (from ipython>=5.0.0->ipykernel->jupyter) (4.9.0)\n",
            "Requirement already satisfied: platformdirs>=2.5 in /usr/local/lib/python3.10/dist-packages (from jupyter-core>=4.7->nbconvert->jupyter) (4.2.2)\n",
            "Requirement already satisfied: notebook-shim>=0.2.3 in /usr/local/lib/python3.10/dist-packages (from nbclassic>=0.4.7->notebook->jupyter) (0.2.4)\n",
            "Requirement already satisfied: fastjsonschema>=2.15 in /usr/local/lib/python3.10/dist-packages (from nbformat>=5.1->nbconvert->jupyter) (2.20.0)\n",
            "Requirement already satisfied: jsonschema>=2.6 in /usr/local/lib/python3.10/dist-packages (from nbformat>=5.1->nbconvert->jupyter) (4.23.0)\n",
            "Requirement already satisfied: wcwidth in /usr/local/lib/python3.10/dist-packages (from prompt-toolkit!=3.0.0,!=3.0.1,<3.1.0,>=2.0.0->jupyter-console->jupyter) (0.2.13)\n",
            "Requirement already satisfied: ptyprocess in /usr/local/lib/python3.10/dist-packages (from terminado>=0.8.3->notebook->jupyter) (0.7.0)\n",
            "Requirement already satisfied: argon2-cffi-bindings in /usr/local/lib/python3.10/dist-packages (from argon2-cffi->notebook->jupyter) (21.2.0)\n",
            "Requirement already satisfied: soupsieve>1.2 in /usr/local/lib/python3.10/dist-packages (from beautifulsoup4->nbconvert->jupyter) (2.5)\n",
            "Requirement already satisfied: webencodings in /usr/local/lib/python3.10/dist-packages (from bleach->nbconvert->jupyter) (0.5.1)\n",
            "Requirement already satisfied: parso<0.9.0,>=0.8.3 in /usr/local/lib/python3.10/dist-packages (from jedi>=0.16->ipython>=5.0.0->ipykernel->jupyter) (0.8.4)\n",
            "Requirement already satisfied: attrs>=22.2.0 in /usr/local/lib/python3.10/dist-packages (from jsonschema>=2.6->nbformat>=5.1->nbconvert->jupyter) (24.1.0)\n",
            "Requirement already satisfied: jsonschema-specifications>=2023.03.6 in /usr/local/lib/python3.10/dist-packages (from jsonschema>=2.6->nbformat>=5.1->nbconvert->jupyter) (2023.12.1)\n",
            "Requirement already satisfied: referencing>=0.28.4 in /usr/local/lib/python3.10/dist-packages (from jsonschema>=2.6->nbformat>=5.1->nbconvert->jupyter) (0.35.1)\n",
            "Requirement already satisfied: rpds-py>=0.7.1 in /usr/local/lib/python3.10/dist-packages (from jsonschema>=2.6->nbformat>=5.1->nbconvert->jupyter) (0.19.1)\n",
            "Requirement already satisfied: jupyter-server<3,>=1.8 in /usr/local/lib/python3.10/dist-packages (from notebook-shim>=0.2.3->nbclassic>=0.4.7->notebook->jupyter) (1.24.0)\n",
            "Requirement already satisfied: cffi>=1.0.1 in /usr/local/lib/python3.10/dist-packages (from argon2-cffi-bindings->argon2-cffi->notebook->jupyter) (1.16.0)\n",
            "Requirement already satisfied: pycparser in /usr/local/lib/python3.10/dist-packages (from cffi>=1.0.1->argon2-cffi-bindings->argon2-cffi->notebook->jupyter) (2.22)\n",
            "Requirement already satisfied: websocket-client in /usr/local/lib/python3.10/dist-packages (from jupyter-server<3,>=1.8->notebook-shim>=0.2.3->nbclassic>=0.4.7->notebook->jupyter) (1.8.0)\n"
          ]
        }
      ]
    },
    {
      "cell_type": "markdown",
      "source": [
        "## Initialize Required Libraries"
      ],
      "metadata": {
        "id": "pm0QGO0oSkIN"
      }
    },
    {
      "cell_type": "code",
      "execution_count": 109,
      "metadata": {
        "id": "6d8iUfDjImR7"
      },
      "outputs": [],
      "source": [
        "import os\n",
        "import json\n",
        "from groq import Groq\n",
        "\n",
        "# For handling images\n",
        "from PIL import Image\n",
        "import numpy as np\n",
        "\n",
        "# For numerical data processing\n",
        "import pandas as pd\n",
        "\n",
        "\n"
      ]
    },
    {
      "cell_type": "markdown",
      "source": [
        "## Set API Key and Model"
      ],
      "metadata": {
        "id": "RkPntcotSuMn"
      }
    },
    {
      "cell_type": "code",
      "source": [
        "api_key = \"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\"\n",
        "client = Groq(api_key=api_key)\n",
        "model = \"llama3-groq-70b-8192-tool-use-preview\"\n"
      ],
      "metadata": {
        "id": "D-B14mkiJFi-"
      },
      "execution_count": 110,
      "outputs": []
    },
    {
      "cell_type": "markdown",
      "source": [
        "## Define Functions for Multimodal Analysis\n",
        "We’ll define functions to handle text analysis, numerical data processing, and image analysis."
      ],
      "metadata": {
        "id": "Z3e9JaEKSxQY"
      }
    },
    {
      "cell_type": "code",
      "source": [
        "def analyze_text(text: str):\n",
        "    print(\"Analyzing text...\")\n",
        "    result = f\"Analyzed text: {text}\"\n",
        "    print(result)\n",
        "    return result\n",
        "\n",
        "def process_numerical_data(data: dict):\n",
        "    print(\"Processing numerical data...\")\n",
        "    df = pd.DataFrame(data)\n",
        "    summary = df.describe()\n",
        "    result = summary.to_json()\n",
        "    print(result)\n",
        "    return result\n",
        "\n",
        "def analyze_image(image_path: str):\n",
        "    print(f\"Analyzing image at path: {image_path}\")\n",
        "    try:\n",
        "        image = Image.open(image_path)\n",
        "        image_array = np.array(image)\n",
        "        print(f\"Original image shape: {image_array.shape}\")\n",
        "\n",
        "        # Convert image to grayscale if it has more than 3 channels\n",
        "        if image_array.shape[2] > 3:\n",
        "            image = image.convert(\"L\")\n",
        "            image_array = np.array(image)\n",
        "            print(f\"Converted to grayscale image shape: {image_array.shape}\")\n",
        "\n",
        "        # Check if the image has 1 or 3 channels, which is typical for X-rays\n",
        "        if len(image_array.shape) == 2:\n",
        "            analysis_result = \"The image is a grayscale X-ray.\"\n",
        "        elif len(image_array.shape) == 3 and image_array.shape[2] in [1, 3]:\n",
        "            analysis_result = \"The image is a typical X-ray.\"\n",
        "        else:\n",
        "            analysis_result = \"The image does not appear to be a typical X-ray.\"\n",
        "\n",
        "        result = {\n",
        "            \"image_shape\": image_array.shape,\n",
        "            \"analysis\": analysis_result\n",
        "        }\n",
        "        print(result)\n",
        "        return result\n",
        "    except FileNotFoundError:\n",
        "        return {\"error\": \"Error: Image file not found.\"}\n",
        "    except Exception as e:\n",
        "        return {\"error\": f\"Error: {str(e)}\"}\n"
      ],
      "metadata": {
        "id": "gkBAVHgRJLp6"
      },
      "execution_count": 139,
      "outputs": []
    },
    {
      "cell_type": "markdown",
      "source": [
        "## Step 1: Sample Data Preparation\n",
        "Let's prepare sample data for the text report, numerical lab results, and the image path."
      ],
      "metadata": {
        "id": "dYHutFosWnDN"
      }
    },
    {
      "cell_type": "code",
      "source": [
        "# Sample text report\n",
        "text_report = \"The patient is a 45-year-old male with a history of hypertension and diabetes. Recently experienced shortness of breath.\"\n",
        "\n",
        "# Sample numerical lab results\n",
        "numerical_lab_results = {\n",
        "    \"BloodPressure\": [140],\n",
        "    \"HeartRate\": [80],\n",
        "    \"Cholesterol\": [220],\n",
        "    \"BloodSugar\": [150]\n",
        "}\n",
        "\n",
        "# Sample image path\n",
        "image_path = \"/content/vwuwm0jl.png\"\n"
      ],
      "metadata": {
        "id": "KPxLXoJ0WoYo"
      },
      "execution_count": 140,
      "outputs": []
    },
    {
      "cell_type": "markdown",
      "source": [
        "## Define Messages and Tools\n",
        "We’ll prepare a multimodal query to analyze patient data, including a text report, a numerical dataset, and a medical image."
      ],
      "metadata": {
        "id": "AhbxXMYwS1fI"
      }
    },
    {
      "cell_type": "code",
      "source": [
        "messages = [\n",
        "    {\"role\": \"system\", \"content\": \"You are an AI assistant that analyzes patient data.\"},\n",
        "    {\n",
        "        \"role\": \"user\",\n",
        "        \"content\": \"Analyze the following patient data: a text report, numerical lab results, and a chest X-ray image.\"\n",
        "    },\n",
        "    {\n",
        "        \"role\": \"assistant\",\n",
        "        \"content\": json.dumps({\n",
        "            \"text_report\": text_report,\n",
        "            \"numerical_lab_results\": numerical_lab_results,\n",
        "            \"image_path\": image_path\n",
        "        })\n",
        "    }\n",
        "]\n",
        "\n",
        "tools = [\n",
        "    {\n",
        "        \"type\": \"function\",\n",
        "        \"function\": {\n",
        "            \"name\": \"analyze_text\",\n",
        "            \"description\": \"Analyzes the provided text report.\",\n",
        "            \"parameters\": {\n",
        "                \"type\": \"object\",\n",
        "                \"properties\": {\"text\": {\"type\": \"string\", \"description\": \"The text report\"}},\n",
        "                \"required\": [\"text\"]\n",
        "            }\n",
        "        }\n",
        "    },\n",
        "    {\n",
        "        \"type\": \"function\",\n",
        "        \"function\": {\n",
        "            \"name\": \"process_numerical_data\",\n",
        "            \"description\": \"Processes the provided numerical lab results.\",\n",
        "            \"parameters\": {\n",
        "                \"type\": \"object\",\n",
        "                \"properties\": {\"data\": {\"type\": \"object\", \"description\": \"The numerical lab results\"}},\n",
        "                \"required\": [\"data\"]\n",
        "            }\n",
        "        }\n",
        "    },\n",
        "    {\n",
        "        \"type\": \"function\",\n",
        "        \"function\": {\n",
        "            \"name\": \"analyze_image\",\n",
        "            \"description\": \"Analyzes the provided medical image.\",\n",
        "            \"parameters\": {\n",
        "                \"type\": \"object\",\n",
        "                \"properties\": {\"image_path\": {\"type\": \"string\", \"description\": \"The path to the image\"}},\n",
        "                \"required\": [\"image_path\"]\n",
        "            }\n",
        "        }\n",
        "    }\n",
        "]\n"
      ],
      "metadata": {
        "id": "vIBh6vgDJO9j"
      },
      "execution_count": 141,
      "outputs": []
    },
    {
      "cell_type": "markdown",
      "source": [
        "## Run the Completion Request"
      ],
      "metadata": {
        "id": "K2SCh6fFS40y"
      }
    },
    {
      "cell_type": "code",
      "source": [
        "response = client.chat.completions.create(\n",
        "    model=model, messages=messages, tools=tools, tool_choice=\"auto\", max_tokens=4096\n",
        ")\n",
        "\n",
        "response_message = response.choices[0].message\n",
        "print(\"Response message:\", response_message)\n"
      ],
      "metadata": {
        "id": "k9rDwkuZJRwV",
        "colab": {
          "base_uri": "https://localhost:8080/"
        },
        "outputId": "0ebf31bd-55a7-4037-b34b-49b77e6f9377"
      },
      "execution_count": 142,
      "outputs": [
        {
          "output_type": "stream",
          "name": "stdout",
          "text": [
            "Response message: ChatCompletionMessage(content=None, role='assistant', function_call=None, tool_calls=[ChatCompletionMessageToolCall(id='call_70zn', function=Function(arguments='{\"text\": \"The patient is a 45-year-old male with a history of hypertension and diabetes. Recently experienced shortness of breath.\"}', name='analyze_text'), type='function'), ChatCompletionMessageToolCall(id='call_at30', function=Function(arguments='{\"data\": {\"BloodPressure\": [140], \"HeartRate\": [80], \"Cholesterol\": [220], \"BloodSugar\": [150]}}', name='process_numerical_data'), type='function'), ChatCompletionMessageToolCall(id='call_1k33', function=Function(arguments='{\"image_path\": \"/content/vwuwm0jl.png\"}', name='analyze_image'), type='function')])\n"
          ]
        }
      ]
    },
    {
      "cell_type": "markdown",
      "source": [
        "## Process Tool Calls"
      ],
      "metadata": {
        "id": "oU3EWtaAS7-v"
      }
    },
    {
      "cell_type": "code",
      "source": [
        "tool_calls = response_message.tool_calls\n",
        "print(\"Tool calls:\", tool_calls)\n",
        "\n",
        "if tool_calls:\n",
        "    messages.append(\n",
        "        {\n",
        "            \"role\": \"assistant\",\n",
        "            \"tool_calls\": [\n",
        "                {\"id\": tool_call.id, \"function\": {\"name\": tool_call.function.name, \"arguments\": tool_call.function.arguments}, \"type\": tool_call.type}\n",
        "                for tool_call in tool_calls\n",
        "            ]\n",
        "        }\n",
        "    )\n",
        "\n",
        "    available_functions = {\n",
        "        \"analyze_text\": analyze_text,\n",
        "        \"process_numerical_data\": process_numerical_data,\n",
        "        \"analyze_image\": analyze_image\n",
        "    }\n",
        "\n",
        "    for tool_call in tool_calls:\n",
        "        function_name = tool_call.function.name\n",
        "        function_to_call = available_functions[function_name]\n",
        "        function_args = json.loads(tool_call.function.arguments)\n",
        "\n",
        "        try:\n",
        "            function_response = function_to_call(**function_args)\n",
        "        except FileNotFoundError as e:\n",
        "            function_response = str(e)\n",
        "        except Exception as e:\n",
        "            function_response = f\"Error: {str(e)}\"\n",
        "\n",
        "        print(f\"Function {function_name} response:\", function_response)\n",
        "        messages.append({\"role\": \"tool\", \"content\": json.dumps(function_response), \"tool_call_id\": tool_call.id})\n",
        "\n",
        "    response = client.chat.completions.create(\n",
        "        model=model, messages=messages, tools=tools, tool_choice=\"auto\", max_tokens=4096\n",
        "    )\n",
        "\n",
        "    print(\"Final response message:\", response.choices[0].message.content)\n",
        "else:\n",
        "    print(\"No tool calls were returned by the model.\")\n"
      ],
      "metadata": {
        "id": "rf_u2UmOJT7v",
        "colab": {
          "base_uri": "https://localhost:8080/"
        },
        "outputId": "afb9db2c-3bc6-4747-95b7-5480a861ae78"
      },
      "execution_count": 143,
      "outputs": [
        {
          "output_type": "stream",
          "name": "stdout",
          "text": [
            "Tool calls: [ChatCompletionMessageToolCall(id='call_70zn', function=Function(arguments='{\"text\": \"The patient is a 45-year-old male with a history of hypertension and diabetes. Recently experienced shortness of breath.\"}', name='analyze_text'), type='function'), ChatCompletionMessageToolCall(id='call_at30', function=Function(arguments='{\"data\": {\"BloodPressure\": [140], \"HeartRate\": [80], \"Cholesterol\": [220], \"BloodSugar\": [150]}}', name='process_numerical_data'), type='function'), ChatCompletionMessageToolCall(id='call_1k33', function=Function(arguments='{\"image_path\": \"/content/vwuwm0jl.png\"}', name='analyze_image'), type='function')]\n",
            "Analyzing text...\n",
            "Analyzed text: The patient is a 45-year-old male with a history of hypertension and diabetes. Recently experienced shortness of breath.\n",
            "Function analyze_text response: Analyzed text: The patient is a 45-year-old male with a history of hypertension and diabetes. Recently experienced shortness of breath.\n",
            "Processing numerical data...\n",
            "{\"BloodPressure\":{\"count\":1.0,\"mean\":140.0,\"std\":null,\"min\":140.0,\"25%\":140.0,\"50%\":140.0,\"75%\":140.0,\"max\":140.0},\"HeartRate\":{\"count\":1.0,\"mean\":80.0,\"std\":null,\"min\":80.0,\"25%\":80.0,\"50%\":80.0,\"75%\":80.0,\"max\":80.0},\"Cholesterol\":{\"count\":1.0,\"mean\":220.0,\"std\":null,\"min\":220.0,\"25%\":220.0,\"50%\":220.0,\"75%\":220.0,\"max\":220.0},\"BloodSugar\":{\"count\":1.0,\"mean\":150.0,\"std\":null,\"min\":150.0,\"25%\":150.0,\"50%\":150.0,\"75%\":150.0,\"max\":150.0}}\n",
            "Function process_numerical_data response: {\"BloodPressure\":{\"count\":1.0,\"mean\":140.0,\"std\":null,\"min\":140.0,\"25%\":140.0,\"50%\":140.0,\"75%\":140.0,\"max\":140.0},\"HeartRate\":{\"count\":1.0,\"mean\":80.0,\"std\":null,\"min\":80.0,\"25%\":80.0,\"50%\":80.0,\"75%\":80.0,\"max\":80.0},\"Cholesterol\":{\"count\":1.0,\"mean\":220.0,\"std\":null,\"min\":220.0,\"25%\":220.0,\"50%\":220.0,\"75%\":220.0,\"max\":220.0},\"BloodSugar\":{\"count\":1.0,\"mean\":150.0,\"std\":null,\"min\":150.0,\"25%\":150.0,\"50%\":150.0,\"75%\":150.0,\"max\":150.0}}\n",
            "Analyzing image at path: /content/vwuwm0jl.png\n",
            "Original image shape: (400, 620, 4)\n",
            "Converted to grayscale image shape: (400, 620)\n",
            "{'image_shape': (400, 620), 'analysis': 'The image is a grayscale X-ray.'}\n",
            "Function analyze_image response: {'image_shape': (400, 620), 'analysis': 'The image is a grayscale X-ray.'}\n",
            "Final response message: The text report indicates the patient is a 45-year-old male with a history of hypertension and diabetes, and he has recently experienced shortness of breath. The numerical lab results show that his blood pressure, heart rate, cholesterol, and blood sugar levels are all within normal ranges. The chest X-ray image analysis indicates it is a grayscale X-ray with a resolution of 400x620 pixels.\n"
          ]
        }
      ]
    },
    {
      "cell_type": "markdown",
      "source": [
        "## Display Final Results"
      ],
      "metadata": {
        "id": "V4sMHVJRS-8Y"
      }
    },
    {
      "cell_type": "code",
      "source": [
        "response = client.chat.completions.create(\n",
        "    model=model, messages=messages, tools=tools, tool_choice=\"auto\", max_tokens=4096\n",
        ")\n",
        "\n",
        "print(response.choices[0].message.content)\n"
      ],
      "metadata": {
        "colab": {
          "base_uri": "https://localhost:8080/"
        },
        "id": "F1qemvGVJV-H",
        "outputId": "05ff2759-f339-4816-dec3-8c6a7b9baecd"
      },
      "execution_count": 144,
      "outputs": [
        {
          "output_type": "stream",
          "name": "stdout",
          "text": [
            "The analysis of the text report indicates that the patient is a 45-year-old male with a history of hypertension and diabetes and has recently experienced shortness of breath. The numerical lab results show that the patient's blood pressure, heart rate, cholesterol, and blood sugar levels are within the normal range. The chest X-ray image has been analyzed and is a grayscale X-ray with dimensions of 400x620 pixels.\n"
          ]
        }
      ]
    },
    {
      "cell_type": "code",
      "source": [],
      "metadata": {
        "id": "-S1OykULTAHM"
      },
      "execution_count": null,
      "outputs": []
    },
    {
      "cell_type": "code",
      "source": [
        "\n"
      ],
      "metadata": {
        "id": "Jopn5WfCJXpd"
      },
      "execution_count": null,
      "outputs": []
    }
  ]
}